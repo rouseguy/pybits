{
 "cells": [
  {
   "cell_type": "markdown",
   "id": "772b97a2-7e7e-477e-b393-d27f4b3da4d6",
   "metadata": {},
   "source": [
    "# Reverse words in a string\n",
    "\n",
    "Given a string, reverse each of the words in that string"
   ]
  },
  {
   "cell_type": "code",
   "execution_count": 124,
   "id": "c0e63523-f65d-4316-84ee-f26a0834181a",
   "metadata": {},
   "outputs": [],
   "source": [
    "def reverse_sentence(sentence):\n",
    "    \"\"\"\n",
    "        This function reverses individual words, given a sentence\n",
    "        \n",
    "        Input: A sentence\n",
    "        Output: A sentence where each word from the input is reversed\n",
    "        \n",
    "        Example:\n",
    "            $ reverse_sentence(\"Good Night\")\n",
    "            $ \"dooG thgiN\"\n",
    "            \n",
    "            $ reverse_sentence(\"Good Night \")\n",
    "            $ \"dooG thgiN \"\n",
    "            \n",
    "            $ reverse_sentence(\" Good Night\")\n",
    "            $ \" dooG thgiN\"\n",
    "            \n",
    "            \n",
    "            \n",
    "    \"\"\"\n",
    "    \n",
    "    rev_sen = \"\"    # The reversed sentence will be stored in this variable. Initialized as empty string\n",
    "    prev_word = \"\"  # As we loop through the sentence, the word is stored in this variable. Initialized as empty string.\n",
    "    \n",
    "    for charactr in sentence:                          # Loop through the sentence\n",
    "        if charactr == \" \":                            # If the current character is empty, we need to reverse the previous word. We also need to insert space into the new string \n",
    "            if len(prev_word) > 0:                     \n",
    "                rev_sen += prev_word[::-1]\n",
    "            rev_sen += charactr\n",
    "            prev_word = \"\"\n",
    "        else:\n",
    "            prev_word += charactr\n",
    "            \n",
    "    rev_sen += prev_word[::-1]                         # When the last character occurs, if its not a space, we need to reverse the word that's present in the pervious word. \n",
    "        \n",
    "    return rev_sen"
   ]
  },
  {
   "cell_type": "code",
   "execution_count": 125,
   "id": "f9b3119d-02da-4102-9d3f-1dff78fc2df5",
   "metadata": {},
   "outputs": [
    {
     "name": "stdout",
     "output_type": "stream",
     "text": [
      "Given sentence: Good Night\n",
      "Reversed sentence: dooG thgiN\n"
     ]
    }
   ],
   "source": [
    "sentence_to_reverse = \"Good Night\"\n",
    "\n",
    "print(\"Given sentence:\", sentence_to_reverse)\n",
    "print(\"Reversed sentence:\", reverse_sentence(sentence_to_reverse))"
   ]
  },
  {
   "cell_type": "code",
   "execution_count": 126,
   "id": "0e2d0d0d-239b-4550-8660-2793f16c8feb",
   "metadata": {},
   "outputs": [
    {
     "name": "stdout",
     "output_type": "stream",
     "text": [
      "Given sentence:  Good Night\n",
      "Reversed sentence:  dooG thgiN\n"
     ]
    }
   ],
   "source": [
    "sentence_to_reverse = \" Good Night\"\n",
    "\n",
    "print(\"Given sentence:\", sentence_to_reverse)\n",
    "print(\"Reversed sentence:\", reverse_sentence(sentence_to_reverse))"
   ]
  },
  {
   "cell_type": "code",
   "execution_count": 127,
   "id": "ecc61da5-56f8-41a8-b579-d32ea4309f16",
   "metadata": {},
   "outputs": [
    {
     "name": "stdout",
     "output_type": "stream",
     "text": [
      "Given sentence: Good Night \n",
      "Reversed sentence: dooG thgiN \n"
     ]
    }
   ],
   "source": [
    "sentence_to_reverse = \"Good Night \"\n",
    "\n",
    "print(\"Given sentence:\", sentence_to_reverse)\n",
    "print(\"Reversed sentence:\", reverse_sentence(sentence_to_reverse))"
   ]
  },
  {
   "cell_type": "code",
   "execution_count": null,
   "id": "d1327ca2-e844-47d1-9298-a848b42371bd",
   "metadata": {},
   "outputs": [],
   "source": []
  }
 ],
 "metadata": {
  "kernelspec": {
   "display_name": "Python 3 (ipykernel)",
   "language": "python",
   "name": "python3"
  },
  "language_info": {
   "codemirror_mode": {
    "name": "ipython",
    "version": 3
   },
   "file_extension": ".py",
   "mimetype": "text/x-python",
   "name": "python",
   "nbconvert_exporter": "python",
   "pygments_lexer": "ipython3",
   "version": "3.8.8"
  }
 },
 "nbformat": 4,
 "nbformat_minor": 5
}
